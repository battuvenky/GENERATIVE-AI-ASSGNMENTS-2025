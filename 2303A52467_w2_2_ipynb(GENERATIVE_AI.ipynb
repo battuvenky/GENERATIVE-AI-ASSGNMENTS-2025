{
  "nbformat": 4,
  "nbformat_minor": 0,
  "metadata": {
    "colab": {
      "provenance": [],
      "authorship_tag": "ABX9TyO1QLSJF2hsbcc2advy89ib",
      "include_colab_link": true
    },
    "kernelspec": {
      "name": "python3",
      "display_name": "Python 3"
    },
    "language_info": {
      "name": "python"
    }
  },
  "cells": [
    {
      "cell_type": "markdown",
      "metadata": {
        "id": "view-in-github",
        "colab_type": "text"
      },
      "source": [
        "<a href=\"https://colab.research.google.com/github/battuvenky/GENERATIVE-AI-ASSGNMENTS-2025/blob/main/2303A52467_w2_2_ipynb(GENERATIVE_AI.ipynb\" target=\"_parent\"><img src=\"https://colab.research.google.com/assets/colab-badge.svg\" alt=\"Open In Colab\"/></a>"
      ]
    },
    {
      "cell_type": "code",
      "execution_count": 1,
      "metadata": {
        "colab": {
          "base_uri": "https://localhost:8080/"
        },
        "id": "Jc3rA6U8Aapl",
        "outputId": "62c0e880-04c2-4f62-e1c4-10cd61da5980"
      },
      "outputs": [
        {
          "output_type": "stream",
          "name": "stdout",
          "text": [
            "Optimal number of units of A: 2.0000000000000004\n",
            "Optimal number of units of B: 2.9999999999999996\n",
            "Maximum profit: Rs 27.0\n"
          ]
        },
        {
          "output_type": "stream",
          "name": "stderr",
          "text": [
            "<ipython-input-1-c15f32f09fe6>:19: DeprecationWarning: `method='simplex'` is deprecated and will be removed in SciPy 1.11.0. Please use one of the HiGHS solvers (e.g. `method='highs'`) in new code.\n",
            "  result = linprog(c, A_ub=A, b_ub=b, bounds=[x_bounds, y_bounds], method='simplex')\n"
          ]
        }
      ],
      "source": [
        "import numpy as np\n",
        "from scipy.optimize import linprog\n",
        "\n",
        "\n",
        "c = [-6, -5]\n",
        "\n",
        "\n",
        "A = [[1, 1],\n",
        "     [3, 2]]\n",
        "\n",
        "\n",
        "b = [5, 12]\n",
        "\n",
        "\n",
        "x_bounds = (0, None)\n",
        "y_bounds = (0, None)\n",
        "\n",
        "\n",
        "result = linprog(c, A_ub=A, b_ub=b, bounds=[x_bounds, y_bounds], method='simplex')\n",
        "\n",
        "\n",
        "units_of_A = result.x[0]\n",
        "units_of_B = result.x[1]\n",
        "max_profit = -result.fun\n",
        "\n",
        "print(f\"Optimal number of units of A: {units_of_A}\")\n",
        "print(f\"Optimal number of units of B: {units_of_B}\")\n",
        "print(f\"Maximum profit: Rs {max_profit}\")"
      ]
    },
    {
      "cell_type": "code",
      "source": [
        "c = [-50, -120]\n",
        "\n",
        "\n",
        "A = [[1, 1],\n",
        "     [7000, 2000],\n",
        "          [10, 30]]\n",
        "\n",
        "\n",
        "b = [110, 700000, 1200]\n",
        "\n",
        "\n",
        "w_bounds = (0, None)\n",
        "b_bounds = (0, None)\n",
        "\n",
        "\n",
        "result = linprog(c, A_ub=A, b_ub=b, bounds=[w_bounds, b_bounds], method='simplex')\n",
        "\n",
        "\n",
        "hectares_wheat = result.x[0]\n",
        "hectares_barley = result.x[1]\n",
        "max_profit = -result.fun\n",
        "\n",
        "print(f\"Optimal hectares of Wheat: {hectares_wheat}\")\n",
        "print(f\"Optimal hectares of Barley: {hectares_barley}\")\n",
        "print(f\"Maximum profit: Rs {max_profit}\")\n"
      ],
      "metadata": {
        "colab": {
          "base_uri": "https://localhost:8080/"
        },
        "id": "Pis7wrCxArGa",
        "outputId": "fc662818-6101-41d5-eade-6712fd4088af"
      },
      "execution_count": 2,
      "outputs": [
        {
          "output_type": "stream",
          "name": "stdout",
          "text": [
            "Optimal hectares of Wheat: 97.89473684210526\n",
            "Optimal hectares of Barley: 7.368421052631579\n",
            "Maximum profit: Rs 5778.9473684210525\n"
          ]
        },
        {
          "output_type": "stream",
          "name": "stderr",
          "text": [
            "<ipython-input-2-e0a2a55a497f>:16: DeprecationWarning: `method='simplex'` is deprecated and will be removed in SciPy 1.11.0. Please use one of the HiGHS solvers (e.g. `method='highs'`) in new code.\n",
            "  result = linprog(c, A_ub=A, b_ub=b, bounds=[w_bounds, b_bounds], method='simplex')\n"
          ]
        }
      ]
    }
  ]
}